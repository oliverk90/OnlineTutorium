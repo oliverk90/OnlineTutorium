{
 "cells": [
  {
   "cell_type": "code",
   "execution_count": 20,
   "metadata": {},
   "outputs": [
    {
     "name": "stdout",
     "output_type": "stream",
     "text": [
      "<class 'list'>\n",
      "<class 'dict'>\n",
      "ETHBTC 0.02006100\n"
     ]
    }
   ],
   "source": [
    "import requests\n",
    "\n",
    "url=\"https://www.binance.com/api/v3/ticker/price\"\n",
    "\n",
    "response = requests.get(url)\n",
    "data = response.json()\n",
    "\n",
    "print(type(data))\n",
    "print(type(data[0]))\n",
    "print(data[0][\"symbol\"],data[0][\"price\"])"
   ]
  },
  {
   "cell_type": "code",
   "execution_count": 42,
   "metadata": {},
   "outputs": [
    {
     "name": "stdout",
     "output_type": "stream",
     "text": [
      "0\n",
      "1\n",
      "2\n",
      "3\n",
      "4\n"
     ]
    }
   ],
   "source": [
    "import time\n",
    "\n",
    "price = dict()\n",
    "t = list()\n",
    "\n",
    "for i in range(50000):\n",
    "    print(i)\n",
    "    t.append(time.time())\n",
    "    response = requests.get(url)\n",
    "    data = response.json()\n",
    "    for d in data:\n",
    "        current_symbol = d[\"symbol\"]\n",
    "        current_price = d[\"price\"]\n",
    "        if not(current_symbol in price):\n",
    "            price[current_symbol]=list()\n",
    "        price[current_symbol].append(current_price)\n",
    "    time.sleep(2)\n"
   ]
  },
  {
   "cell_type": "code",
   "execution_count": 53,
   "metadata": {},
   "outputs": [
    {
     "name": "stdout",
     "output_type": "stream",
     "text": [
      "aktueller preis für XRPUSDT zum zeitpunkt 1572877432.3021727 ist: 0.29421000\n",
      "aktueller preis für XRPUSDT zum zeitpunkt 1572877434.8428473 ist: 0.29423000\n",
      "aktueller preis für XRPUSDT zum zeitpunkt 1572877437.2871695 ist: 0.29423000\n",
      "aktueller preis für XRPUSDT zum zeitpunkt 1572877439.7580385 ist: 0.29428000\n",
      "aktueller preis für XRPUSDT zum zeitpunkt 1572877442.2138875 ist: 0.29428000\n"
     ]
    }
   ],
   "source": [
    "coin_pair=\"XRPUSDT\"\n",
    "for i in zip(t,price[coin_pair]):\n",
    "    print(\"aktueller preis für \" + coin_pair + \" zum zeitpunkt \" + str(i[0]) + \" ist: \" + str(i[1]))"
   ]
  },
  {
   "cell_type": "code",
   "execution_count": 46,
   "metadata": {},
   "outputs": [
    {
     "ename": "TypeError",
     "evalue": "unhashable type: 'list'",
     "output_type": "error",
     "traceback": [
      "\u001b[1;31m---------------------------------------------------------------------------\u001b[0m",
      "\u001b[1;31mTypeError\u001b[0m                                 Traceback (most recent call last)",
      "\u001b[1;32m<ipython-input-46-3e47459c8892>\u001b[0m in \u001b[0;36m<module>\u001b[1;34m\u001b[0m\n\u001b[1;32m----> 1\u001b[1;33m \u001b[0mprice\u001b[0m\u001b[1;33m[\u001b[0m\u001b[0mcoin_pair\u001b[0m\u001b[1;33m]\u001b[0m\u001b[1;33m\u001b[0m\u001b[1;33m\u001b[0m\u001b[0m\n\u001b[0m",
      "\u001b[1;31mTypeError\u001b[0m: unhashable type: 'list'"
     ]
    }
   ],
   "source": [
    "price[coin_pair]"
   ]
  }
 ],
 "metadata": {
  "kernelspec": {
   "display_name": "Python 3",
   "language": "python",
   "name": "python3"
  },
  "language_info": {
   "codemirror_mode": {
    "name": "ipython",
    "version": 3
   },
   "file_extension": ".py",
   "mimetype": "text/x-python",
   "name": "python",
   "nbconvert_exporter": "python",
   "pygments_lexer": "ipython3",
   "version": "3.7.5"
  }
 },
 "nbformat": 4,
 "nbformat_minor": 2
}
